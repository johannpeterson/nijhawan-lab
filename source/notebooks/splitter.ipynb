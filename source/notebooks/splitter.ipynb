{
 "cells": [
  {
   "cell_type": "code",
   "execution_count": 1,
   "id": "spanish-flower",
   "metadata": {},
   "outputs": [
    {
     "name": "stdout",
     "output_type": "stream",
     "text": [
      "/data/nijhawanlab/maria\n"
     ]
    }
   ],
   "source": [
    "%cd /data/nijhawanlab/maria/\n",
    "R1_file = \"NB_R1_001.fastq.gz\"\n",
    "R2_file = \"NB_R2_001.fastq.gz\"\n",
    "primer_file = \"primers.2.tsv\""
   ]
  },
  {
   "cell_type": "code",
   "execution_count": 2,
   "id": "connected-victorian",
   "metadata": {},
   "outputs": [],
   "source": [
    "from Bio import Seq, SeqIO, Align, Alphabet\n",
    "# import numpy as np\n",
    "# import pandas as pd\n",
    "# import seaborn as sns\n",
    "# import matplotlib.pyplot as plt\n",
    "import gzip\n",
    "import csv\n",
    "import itertools\n",
    "import re\n",
    "import pprint"
   ]
  },
  {
   "cell_type": "code",
   "execution_count": 3,
   "id": "sealed-hebrew",
   "metadata": {},
   "outputs": [],
   "source": [
    "basePair = {'A':'T','T':'A','G':'C','C':'G'}\n",
    "basePairTrans = str.maketrans(basePair)\n",
    "def rcDNA(seq):\n",
    "    return seq.translate(basePairTrans) [::-1]\n",
    "def cDNA(seq):\n",
    "    return seq.translate(basePairTrans)"
   ]
  },
  {
   "cell_type": "code",
   "execution_count": 4,
   "id": "built-coalition",
   "metadata": {
    "scrolled": true
   },
   "outputs": [
    {
     "data": {
      "text/plain": [
       "[{'tag': 'BC1',\n",
       "  'forward_primer': 'AGTTGTTATGCAAATGGAAGGTGT',\n",
       "  'reverse_primer': 'TCACGCTCAGAAAGATAACAAAGCAAGACA'},\n",
       " {'tag': 'BC2',\n",
       "  'forward_primer': 'AGTTGTTATGCAAATGGAAGGTGT',\n",
       "  'reverse_primer': 'AAAACTGAGCCAGCCCTTATCCTCTTAA'},\n",
       " {'tag': 'BC3',\n",
       "  'forward_primer': 'AGTTGTTATGCAAATGGAAGGTGT',\n",
       "  'reverse_primer': 'TCACGCCAGAAAGATAACAAAGCAAGACA'},\n",
       " {'tag': 'BC4',\n",
       "  'forward_primer': 'AGTTGTTATGCAAATGGAAGGTGT',\n",
       "  'reverse_primer': 'TCACAGAAAGATGAAAACAAAGCAAGACA'},\n",
       " {'tag': 'BC5',\n",
       "  'forward_primer': 'AGTTGTTATGCAAATGGAAGGTGT',\n",
       "  'reverse_primer': 'TCACAGATGAAAGATAACAAAGCAAGACA'},\n",
       " {'tag': 'BC6',\n",
       "  'forward_primer': 'AGTTGTTATGCAAATGGAAGGTGT',\n",
       "  'reverse_primer': 'TCACGGTAGAAAGATAACAAAGCAAGACA'}]"
      ]
     },
     "execution_count": 4,
     "metadata": {},
     "output_type": "execute_result"
    }
   ],
   "source": [
    "primers = []\n",
    "with open(primer_file, newline='') as primers_IO:\n",
    "    primer_reader = csv.DictReader(primers_IO,\n",
    "                                   delimiter='\\t',\n",
    "                                   fieldnames=['tag','forward_primer','reverse_primer'])\n",
    "    for primer in primer_reader:\n",
    "        primers.append({\n",
    "            'tag':primer['tag'],\n",
    "            'forward_primer':primer['forward_primer'].upper(),\n",
    "            'reverse_primer':primer['reverse_primer'].upper(),\n",
    "        })\n",
    "\n",
    "primers"
   ]
  },
  {
   "cell_type": "code",
   "execution_count": 5,
   "id": "informational-offering",
   "metadata": {},
   "outputs": [],
   "source": [
    "def matchSinglePrimer(seq, primer_seq):\n",
    "    direction = 1\n",
    "    pos = seq.find(primer_seq)\n",
    "    if pos < 0:\n",
    "        pos = seq.find( rcDNA(primer_seq) )\n",
    "        direction = -1\n",
    "    return pos, direction\n",
    "\n",
    "def findPrimers(seq, primers):\n",
    "    primer_matches = {'forward':[],'reverse':[]}\n",
    "    for p in primers:\n",
    "        rev_pos, rev_dir = matchSinglePrimer(seq, p['reverse_primer'])\n",
    "        # print(rev_pos)\n",
    "        if rev_pos >= 0:\n",
    "            primer_matches['reverse'].append( (p['tag'], rev_pos) )\n",
    "        fwd_pos, fwd_dir = matchSinglePrimer(seq, p['forward_primer'])\n",
    "        # print(fwd_pos)\n",
    "        if fwd_pos >= 0:\n",
    "            primer_matches['forward'].append( (p['tag'], fwd_pos) )\n",
    "    return primer_matches"
   ]
  },
  {
   "cell_type": "code",
   "execution_count": 6,
   "id": "proved-likelihood",
   "metadata": {},
   "outputs": [
    {
     "ename": "NameError",
     "evalue": "name 'matches' is not defined",
     "output_type": "error",
     "traceback": [
      "\u001b[0;31m---------------------------------------------------------------------------\u001b[0m",
      "\u001b[0;31mNameError\u001b[0m                                 Traceback (most recent call last)",
      "\u001b[0;32m<ipython-input-6-ea48a7f06a3a>\u001b[0m in \u001b[0;36m<module>\u001b[0;34m\u001b[0m\n\u001b[1;32m     36\u001b[0m             \u001b[0malign_file\u001b[0m\u001b[0;34m.\u001b[0m\u001b[0mwrite\u001b[0m\u001b[0;34m(\u001b[0m\u001b[0;34m'\\n'\u001b[0m\u001b[0;34m)\u001b[0m\u001b[0;34m\u001b[0m\u001b[0;34m\u001b[0m\u001b[0m\n\u001b[1;32m     37\u001b[0m \u001b[0;34m\u001b[0m\u001b[0m\n\u001b[0;32m---> 38\u001b[0;31m         \u001b[0mmatches\u001b[0m\u001b[0;34m[\u001b[0m\u001b[0;34m'R1'\u001b[0m\u001b[0;34m]\u001b[0m \u001b[0;34m=\u001b[0m \u001b[0mfindPrimers\u001b[0m\u001b[0;34m(\u001b[0m\u001b[0mR1_sequence\u001b[0m\u001b[0;34m,\u001b[0m \u001b[0mprimers\u001b[0m\u001b[0;34m)\u001b[0m\u001b[0;34m\u001b[0m\u001b[0;34m\u001b[0m\u001b[0m\n\u001b[0m\u001b[1;32m     39\u001b[0m         \u001b[0mmatches\u001b[0m\u001b[0;34m[\u001b[0m\u001b[0;34m'R2'\u001b[0m\u001b[0;34m]\u001b[0m \u001b[0;34m=\u001b[0m \u001b[0mfindPrimers\u001b[0m\u001b[0;34m(\u001b[0m\u001b[0mR2_sequence\u001b[0m\u001b[0;34m,\u001b[0m \u001b[0mprimers\u001b[0m\u001b[0;34m)\u001b[0m\u001b[0;34m\u001b[0m\u001b[0;34m\u001b[0m\u001b[0m\n\u001b[1;32m     40\u001b[0m         forward_primer_set = {p for (p, pos) in matches['R1']['forward']}.union(\n",
      "\u001b[0;31mNameError\u001b[0m: name 'matches' is not defined"
     ]
    }
   ],
   "source": [
    "maxReads = 300000\n",
    "readNumber = 0\n",
    "aligning = False\n",
    "\n",
    "pp = pprint.PrettyPrinter(indent=4)\n",
    "\n",
    "read_stats = {\n",
    "    p['tag']: 0\n",
    "    for p in primers\n",
    "}\n",
    "read_stats['unassigned'] = 0\n",
    "read_stats['total'] = 0\n",
    "\n",
    "if aligning:\n",
    "    align_file = open(\"alignments.txt\", 'w')\n",
    "\n",
    "split_files = {}\n",
    "for p in primers:\n",
    "    tag = p['tag']\n",
    "    R1_filename = \"{}_R1.fastq\".format(tag)\n",
    "    R2_filename = \"{}_R2.fastq\".format(tag)\n",
    "    split_files[tag]={'R1': open(R1_filename, 'w'), 'R2': open(R2_filename, 'w')}\n",
    "    \n",
    "with gzip.open(R1_file, \"rt\") as R1, gzip.open(R2_file, \"rt\") as R2:\n",
    "    reads1 = SeqIO.parse(R1, \"fastq\")\n",
    "    reads2 = SeqIO.parse(R2, \"fastq\")\n",
    "    for (read1, read2) in zip(reads1, reads2):\n",
    "        R2_sequence = str(read2.seq)\n",
    "        R1_sequence = str(read1.seq)\n",
    "\n",
    "        if aligning:\n",
    "            aligner = Align.PairwiseAligner()\n",
    "            alignments = aligner.align(R1_sequence, rcDNA( R2_sequence ))\n",
    "            alignment = alignments[0]\n",
    "            align_file.write(alignment.format())\n",
    "            align_file.write('\\n')\n",
    "        \n",
    "        matches['R1'] = findPrimers(R1_sequence, primers)\n",
    "        matches['R2'] = findPrimers(R2_sequence, primers)\n",
    "        forward_primer_set = {p for (p, pos) in matches['R1']['forward']}.union(\n",
    "            {p for (p, pos) in matches['R2']['forward']}\n",
    "        )\n",
    "        reverse_primer_set = {p for (p, pos) in matches['R1']['reverse']}.union(\n",
    "            {p for (p, pos) in matches['R2']['reverse']}\n",
    "        )\n",
    "        possible_primer_set = reverse_primer_set.intersection(forward_primer_set)\n",
    "        # print(list(forward_primer_set))\n",
    "        # print(list(reverse_primer_set))\n",
    "        # print(list(possible_primer_set))\n",
    "\n",
    "        if len(possible_primer_set) == 1:\n",
    "            the_primer = possible_primer_set.pop()\n",
    "            read_stats[the_primer] += 1\n",
    "            SeqIO.write(read1, split_files[the_primer]['R1'], \"fastq\") \n",
    "            SeqIO.write(read2, split_files[the_primer]['R2'], \"fastq\")\n",
    "        else:\n",
    "            read_stats['unassigned'] += 1\n",
    "        read_stats['total'] += 1\n",
    "        \n",
    "        # print(\"R1: {}/{}\\t R2: {}/{}\".format(\n",
    "        #     matches['R1']['forward'], matches['R1']['reverse'],\n",
    "        #     matches['R2']['forward'], matches['R2']['reverse'],\n",
    "        # ))\n",
    "        \n",
    "        readNumber += 1\n",
    "        if readNumber >= maxReads:\n",
    "            break\n",
    "\n",
    "if aligning:\n",
    "    align_file.close()\n",
    "    \n",
    "print(\"maxReads: {}\\nTotal reads: {}\".format(maxReads,readNumber))\n",
    "pp.pprint(read_stats)"
   ]
  },
  {
   "cell_type": "code",
   "execution_count": 7,
   "id": "durable-dublin",
   "metadata": {},
   "outputs": [
    {
     "name": "stdout",
     "output_type": "stream",
     "text": [
      "maxReads: 35\n",
      "Total reads: 35\n",
      "{   'BC1': 0,\n",
      "    'BC2': 0,\n",
      "    'BC3': 0,\n",
      "    'BC4': 0,\n",
      "    'BC5': 0,\n",
      "    'BC6': 0,\n",
      "    'total': 0,\n",
      "    'unassigned': 0}\n"
     ]
    }
   ],
   "source": [
    "maxReads = 35\n",
    "readNumber = 0\n",
    "aligning = False\n",
    "\n",
    "pp = pprint.PrettyPrinter(indent=4)\n",
    "\n",
    "read_stats = {\n",
    "    p['tag']: 0\n",
    "    for p in primers\n",
    "}\n",
    "read_stats['unassigned'] = 0\n",
    "read_stats['total'] = 0\n",
    "R1_records = []\n",
    "R2_records = []\n",
    "\n",
    "with gzip.open(R1_file, \"rt\") as R1, gzip.open(R2_file, \"rt\") as R2:\n",
    "    reads1 = SeqIO.parse(R1, \"fastq\")\n",
    "    reads2 = SeqIO.parse(R2, \"fastq\")\n",
    "    for (read1, read2) in zip(reads1, reads2):\n",
    "        R1_records.append(read1)\n",
    "        R2_records.append(read2)\n",
    "        \n",
    "        readNumber += 1\n",
    "        if readNumber >= maxReads:\n",
    "            break\n",
    "\n",
    "print(\"maxReads: {}\\nTotal reads: {}\".format(maxReads,readNumber))\n",
    "pp.pprint(read_stats)"
   ]
  },
  {
   "cell_type": "code",
   "execution_count": 8,
   "id": "stuffed-malaysia",
   "metadata": {},
   "outputs": [
    {
     "data": {
      "text/plain": [
       "SeqRecord(seq=Seq('CACAGATGAAAGATAACAAAGCAAGACATACAGAAATTATGTAGTTATACTCAG...TAC', SingleLetterAlphabet()), id='GWNJ-1012:466:GW210102944th.Miseq:1:2101:12608:1188', name='GWNJ-1012:466:GW210102944th.Miseq:1:2101:12608:1188', description='GWNJ-1012:466:GW210102944th.Miseq:1:2101:12608:1188 1:N:0:GCTCATGA+CGGAGAGA', dbxrefs=[])"
      ]
     },
     "execution_count": 8,
     "metadata": {},
     "output_type": "execute_result"
    }
   ],
   "source": [
    "r = R1_records[5]\n",
    "r"
   ]
  },
  {
   "cell_type": "code",
   "execution_count": 9,
   "id": "fleet-collins",
   "metadata": {},
   "outputs": [
    {
     "data": {
      "text/plain": [
       "{'phred_quality': [37,\n",
       "  37,\n",
       "  37,\n",
       "  37,\n",
       "  37,\n",
       "  37,\n",
       "  37,\n",
       "  37,\n",
       "  37,\n",
       "  37,\n",
       "  37,\n",
       "  37,\n",
       "  37,\n",
       "  37,\n",
       "  37,\n",
       "  37,\n",
       "  37,\n",
       "  37,\n",
       "  37,\n",
       "  37,\n",
       "  37,\n",
       "  37,\n",
       "  37,\n",
       "  37,\n",
       "  37,\n",
       "  25,\n",
       "  37,\n",
       "  37,\n",
       "  37,\n",
       "  37,\n",
       "  37,\n",
       "  37,\n",
       "  37,\n",
       "  37,\n",
       "  37,\n",
       "  37,\n",
       "  37,\n",
       "  37,\n",
       "  37,\n",
       "  37,\n",
       "  37,\n",
       "  37,\n",
       "  37,\n",
       "  37,\n",
       "  37,\n",
       "  37,\n",
       "  37,\n",
       "  37,\n",
       "  37,\n",
       "  37,\n",
       "  37,\n",
       "  37,\n",
       "  37,\n",
       "  37,\n",
       "  37,\n",
       "  37,\n",
       "  37,\n",
       "  37,\n",
       "  37,\n",
       "  37,\n",
       "  37,\n",
       "  37,\n",
       "  37,\n",
       "  37,\n",
       "  37,\n",
       "  37,\n",
       "  37,\n",
       "  37,\n",
       "  37,\n",
       "  37,\n",
       "  37,\n",
       "  37,\n",
       "  37,\n",
       "  37,\n",
       "  37,\n",
       "  37,\n",
       "  37,\n",
       "  37,\n",
       "  37,\n",
       "  37,\n",
       "  37,\n",
       "  37,\n",
       "  37,\n",
       "  37,\n",
       "  37,\n",
       "  37,\n",
       "  37,\n",
       "  37,\n",
       "  37,\n",
       "  37,\n",
       "  37,\n",
       "  37,\n",
       "  37,\n",
       "  37,\n",
       "  37,\n",
       "  37,\n",
       "  37,\n",
       "  37,\n",
       "  37,\n",
       "  37,\n",
       "  37,\n",
       "  37,\n",
       "  37,\n",
       "  37,\n",
       "  37,\n",
       "  37,\n",
       "  37,\n",
       "  37,\n",
       "  37,\n",
       "  37,\n",
       "  37,\n",
       "  37,\n",
       "  37,\n",
       "  37,\n",
       "  37,\n",
       "  37,\n",
       "  37,\n",
       "  37,\n",
       "  37,\n",
       "  37,\n",
       "  37,\n",
       "  37,\n",
       "  37,\n",
       "  37,\n",
       "  37,\n",
       "  37,\n",
       "  37,\n",
       "  37,\n",
       "  37,\n",
       "  37,\n",
       "  37,\n",
       "  37,\n",
       "  37,\n",
       "  37,\n",
       "  37,\n",
       "  37,\n",
       "  37,\n",
       "  37,\n",
       "  37,\n",
       "  37,\n",
       "  37,\n",
       "  37,\n",
       "  37,\n",
       "  37,\n",
       "  37,\n",
       "  25,\n",
       "  37,\n",
       "  37,\n",
       "  37,\n",
       "  37,\n",
       "  37,\n",
       "  37,\n",
       "  37,\n",
       "  37,\n",
       "  37,\n",
       "  37,\n",
       "  37,\n",
       "  25,\n",
       "  37,\n",
       "  37,\n",
       "  37,\n",
       "  37,\n",
       "  37,\n",
       "  37,\n",
       "  37,\n",
       "  37,\n",
       "  37,\n",
       "  25,\n",
       "  37,\n",
       "  37,\n",
       "  37,\n",
       "  37,\n",
       "  37,\n",
       "  37,\n",
       "  37,\n",
       "  37,\n",
       "  37,\n",
       "  37,\n",
       "  37,\n",
       "  37,\n",
       "  37,\n",
       "  37,\n",
       "  37,\n",
       "  37,\n",
       "  37,\n",
       "  37,\n",
       "  37,\n",
       "  37,\n",
       "  37,\n",
       "  37,\n",
       "  37,\n",
       "  37,\n",
       "  37,\n",
       "  37,\n",
       "  37,\n",
       "  37,\n",
       "  37,\n",
       "  37,\n",
       "  37,\n",
       "  37,\n",
       "  37,\n",
       "  37,\n",
       "  37,\n",
       "  37,\n",
       "  37,\n",
       "  37,\n",
       "  37,\n",
       "  37,\n",
       "  37,\n",
       "  37,\n",
       "  37,\n",
       "  37,\n",
       "  37,\n",
       "  37,\n",
       "  37,\n",
       "  37,\n",
       "  11,\n",
       "  37,\n",
       "  37,\n",
       "  37,\n",
       "  37,\n",
       "  25,\n",
       "  37,\n",
       "  37,\n",
       "  37,\n",
       "  37,\n",
       "  37,\n",
       "  37,\n",
       "  37,\n",
       "  37,\n",
       "  37,\n",
       "  37,\n",
       "  37,\n",
       "  25,\n",
       "  37,\n",
       "  37,\n",
       "  37,\n",
       "  37,\n",
       "  37,\n",
       "  25,\n",
       "  37,\n",
       "  37,\n",
       "  37,\n",
       "  37,\n",
       "  25,\n",
       "  11,\n",
       "  37,\n",
       "  37,\n",
       "  37,\n",
       "  37]}"
      ]
     },
     "execution_count": 9,
     "metadata": {},
     "output_type": "execute_result"
    }
   ],
   "source": [
    "r.letter_annotations"
   ]
  },
  {
   "cell_type": "code",
   "execution_count": 10,
   "id": "small-means",
   "metadata": {},
   "outputs": [
    {
     "data": {
      "text/plain": [
       "Seq('AGTTGTTATGCAAATGGAAGGTGT')"
      ]
     },
     "execution_count": 10,
     "metadata": {},
     "output_type": "execute_result"
    }
   ],
   "source": [
    "primers[0]['forward_primer']\n",
    "p = Seq.Seq(primers[0]['forward_primer'])\n",
    "p"
   ]
  },
  {
   "cell_type": "code",
   "execution_count": 11,
   "id": "northern-marina",
   "metadata": {},
   "outputs": [
    {
     "data": {
      "text/plain": [
       "(True, False, False)"
      ]
     },
     "execution_count": 11,
     "metadata": {},
     "output_type": "execute_result"
    }
   ],
   "source": [
    "r = R1_records[8]\n",
    "(p in r,\n",
    "p.complement() in r,\n",
    "p.reverse_complement() in r)"
   ]
  },
  {
   "cell_type": "code",
   "execution_count": 51,
   "id": "judicial-disco",
   "metadata": {},
   "outputs": [],
   "source": [
    "# Need to keep .find-ing if the quality is too low.\n",
    "\n",
    "def findSubsequence(subSeq, fullSeq, min_quality=30):\n",
    "    pos = fullSeq.seq.find(subSeq)\n",
    "    while (pos < len(subSeq)) & (pos > -1):\n",
    "        qualities = fullSeq.letter_annotations['phred_quality'][pos:pos+len(subSeq)]\n",
    "        if all([q >= min_quality for q in qualities]):\n",
    "            return (pos, qualities)\n",
    "        pos = fullSeq.seq.find(subSeq, pos+1)\n",
    "    return None\n",
    "\n",
    "def findAllSubsequences(subSeq, fullSeq, min_quality=30):\n",
    "    matches = []\n",
    "    start_pos = 0\n",
    "    max_pos = len(fullSeq)\n",
    "    while ((start_pos < max_pos) & (start_pos > -1)):\n",
    "        start_pos = fullSeq.seq.find(subSeq, start_pos)\n",
    "        if start_pos > -1:\n",
    "            quality = min(fullSeq.letter_annotations['phred_quality'][start_pos:start_pos + len(subSeq)])\n",
    "            if quality > min_quality:\n",
    "                matches.append({'position':start_pos, 'quality':quality})\n",
    "            start_pos += 1\n",
    "    return matches\n",
    "\n",
    "def findBestSubsequence(subSeq, fullSeq, min_quality=30):\n",
    "    best_match = {'position':-1, 'quality':-1}\n",
    "    start_pos = 0\n",
    "    max_pos = len(fullSeq)\n",
    "    while ((start_pos < max_pos) & (start_pos > -1)):\n",
    "        start_pos = fullSeq.seq.find(subSeq, start_pos)\n",
    "        if start_pos > -1:\n",
    "            quality = min(fullSeq.letter_annotations['phred_quality'][start_pos:start_pos + len(subSeq)])\n",
    "            if quality > best_match['quality']:\n",
    "                best_match['position'] = start_pos\n",
    "                best_match['quality'] = quality\n",
    "            start_pos += 1\n",
    "    if best_match['quality'] >= min_quality:\n",
    "        return best_match\n",
    "    else:\n",
    "        return None"
   ]
  },
  {
   "cell_type": "code",
   "execution_count": 40,
   "id": "fallen-thing",
   "metadata": {},
   "outputs": [
    {
     "data": {
      "text/plain": [
       "(0,\n",
       " [37,\n",
       "  37,\n",
       "  37,\n",
       "  37,\n",
       "  37,\n",
       "  37,\n",
       "  37,\n",
       "  37,\n",
       "  37,\n",
       "  37,\n",
       "  25,\n",
       "  37,\n",
       "  37,\n",
       "  37,\n",
       "  37,\n",
       "  37,\n",
       "  25,\n",
       "  37,\n",
       "  37,\n",
       "  37,\n",
       "  37,\n",
       "  37,\n",
       "  37,\n",
       "  37])"
      ]
     },
     "execution_count": 40,
     "metadata": {},
     "output_type": "execute_result"
    }
   ],
   "source": [
    "findSubsequence(p,r, min_quality=10)"
   ]
  },
  {
   "cell_type": "code",
   "execution_count": 14,
   "id": "subtle-syndicate",
   "metadata": {},
   "outputs": [],
   "source": [
    "findSubsequence(Seq.Seq('GAAA'), r, min_quality=30)"
   ]
  },
  {
   "cell_type": "code",
   "execution_count": 15,
   "id": "brave-atlas",
   "metadata": {},
   "outputs": [
    {
     "data": {
      "text/plain": [
       "2"
      ]
     },
     "execution_count": 15,
     "metadata": {},
     "output_type": "execute_result"
    }
   ],
   "source": [
    "p.find('TT')"
   ]
  },
  {
   "cell_type": "code",
   "execution_count": 16,
   "id": "preliminary-dinner",
   "metadata": {},
   "outputs": [
    {
     "data": {
      "text/plain": [
       "-1"
      ]
     },
     "execution_count": 16,
     "metadata": {},
     "output_type": "execute_result"
    }
   ],
   "source": [
    "p.find('TT',100)"
   ]
  },
  {
   "cell_type": "code",
   "execution_count": 17,
   "id": "incoming-motor",
   "metadata": {},
   "outputs": [
    {
     "data": {
      "text/plain": [
       "16"
      ]
     },
     "execution_count": 17,
     "metadata": {},
     "output_type": "execute_result"
    }
   ],
   "source": [
    "p.find('GAAG')"
   ]
  },
  {
   "cell_type": "code",
   "execution_count": 18,
   "id": "unlikely-pierce",
   "metadata": {},
   "outputs": [
    {
     "data": {
      "text/plain": [
       "-1"
      ]
     },
     "execution_count": 18,
     "metadata": {},
     "output_type": "execute_result"
    }
   ],
   "source": [
    "p.find('GAAN')"
   ]
  },
  {
   "cell_type": "code",
   "execution_count": 41,
   "id": "fifty-compensation",
   "metadata": {},
   "outputs": [
    {
     "data": {
      "text/plain": [
       "[{'position': 0, 'quality': 25}]"
      ]
     },
     "execution_count": 41,
     "metadata": {},
     "output_type": "execute_result"
    }
   ],
   "source": [
    "findAllSubsequences(p, r, min_quality=10)"
   ]
  },
  {
   "cell_type": "code",
   "execution_count": 23,
   "id": "compact-desire",
   "metadata": {},
   "outputs": [
    {
     "data": {
      "text/plain": [
       "250"
      ]
     },
     "execution_count": 23,
     "metadata": {},
     "output_type": "execute_result"
    }
   ],
   "source": [
    "len(r)"
   ]
  },
  {
   "cell_type": "code",
   "execution_count": 43,
   "id": "proper-involvement",
   "metadata": {},
   "outputs": [
    {
     "data": {
      "text/plain": [
       "[{'position': 11, 'quality': 37},\n",
       " {'position': 32, 'quality': 37},\n",
       " {'position': 82, 'quality': 37},\n",
       " {'position': 83, 'quality': 37},\n",
       " {'position': 84, 'quality': 37},\n",
       " {'position': 85, 'quality': 25},\n",
       " {'position': 86, 'quality': 11},\n",
       " {'position': 107, 'quality': 25},\n",
       " {'position': 118, 'quality': 11},\n",
       " {'position': 119, 'quality': 11}]"
      ]
     },
     "execution_count": 43,
     "metadata": {},
     "output_type": "execute_result"
    }
   ],
   "source": [
    "findAllSubsequences('AAA', r, min_quality=10)"
   ]
  },
  {
   "cell_type": "code",
   "execution_count": 44,
   "id": "speaking-karen",
   "metadata": {},
   "outputs": [
    {
     "data": {
      "text/plain": [
       "[{'position': 11, 'quality': 37},\n",
       " {'position': 32, 'quality': 37},\n",
       " {'position': 82, 'quality': 37},\n",
       " {'position': 83, 'quality': 37},\n",
       " {'position': 84, 'quality': 37},\n",
       " {'position': 85, 'quality': 25},\n",
       " {'position': 107, 'quality': 25}]"
      ]
     },
     "execution_count": 44,
     "metadata": {},
     "output_type": "execute_result"
    }
   ],
   "source": [
    "findAllSubsequences('AAA', r, min_quality=20)"
   ]
  },
  {
   "cell_type": "code",
   "execution_count": 45,
   "id": "inside-liver",
   "metadata": {},
   "outputs": [
    {
     "data": {
      "text/plain": [
       "[{'position': 11, 'quality': 37},\n",
       " {'position': 32, 'quality': 37},\n",
       " {'position': 82, 'quality': 37},\n",
       " {'position': 83, 'quality': 37},\n",
       " {'position': 84, 'quality': 37}]"
      ]
     },
     "execution_count": 45,
     "metadata": {},
     "output_type": "execute_result"
    }
   ],
   "source": [
    "findAllSubsequences('AAA', r, min_quality=30)"
   ]
  },
  {
   "cell_type": "code",
   "execution_count": 46,
   "id": "dirty-acting",
   "metadata": {},
   "outputs": [
    {
     "data": {
      "text/plain": [
       "[]"
      ]
     },
     "execution_count": 46,
     "metadata": {},
     "output_type": "execute_result"
    }
   ],
   "source": [
    "findAllSubsequences('AAA', r, min_quality=40)"
   ]
  },
  {
   "cell_type": "code",
   "execution_count": 53,
   "id": "infinite-former",
   "metadata": {},
   "outputs": [
    {
     "data": {
      "text/plain": [
       "{'position': 11, 'quality': 37}"
      ]
     },
     "execution_count": 53,
     "metadata": {},
     "output_type": "execute_result"
    }
   ],
   "source": [
    "findBestSubsequence('AAA', r, min_quality=10)"
   ]
  },
  {
   "cell_type": "code",
   "execution_count": 52,
   "id": "empirical-brake",
   "metadata": {},
   "outputs": [],
   "source": [
    "findBestSubsequence('ACTGACTG', r, min_quality=10)"
   ]
  },
  {
   "cell_type": "code",
   "execution_count": 128,
   "id": "rational-fellowship",
   "metadata": {},
   "outputs": [],
   "source": [
    "read_groups = {}\n",
    "with open(primer_file, newline='') as primers_IO:\n",
    "    primer_reader = csv.DictReader(primers_IO,\n",
    "                                   delimiter='\\t',\n",
    "                                   fieldnames=['tag','forward_primer','reverse_primer'])\n",
    "    for primer in primer_reader:\n",
    "        read_groups[primer['tag']] = {\n",
    "            'forward_primer':primer['forward_primer'].upper(),\n",
    "            'reverse_primer':primer['reverse_primer'].upper(),\n",
    "            'read_count':0,\n",
    "            'output_files':{'R1':None, 'R2':None}\n",
    "        }"
   ]
  },
  {
   "cell_type": "code",
   "execution_count": 58,
   "id": "superior-creativity",
   "metadata": {},
   "outputs": [
    {
     "data": {
      "text/plain": [
       "{'BC1': {'forward_primer': 'AGTTGTTATGCAAATGGAAGGTGT',\n",
       "  'reverse_primer': 'TCACGCTCAGAAAGATAACAAAGCAAGACA',\n",
       "  'read_count': 0,\n",
       "  'output_files': {'R1': None, 'R2': None}},\n",
       " 'BC2': {'forward_primer': 'AGTTGTTATGCAAATGGAAGGTGT',\n",
       "  'reverse_primer': 'AAAACTGAGCCAGCCCTTATCCTCTTAA',\n",
       "  'read_count': 0,\n",
       "  'output_files': {'R1': None, 'R2': None}},\n",
       " 'BC3': {'forward_primer': 'AGTTGTTATGCAAATGGAAGGTGT',\n",
       "  'reverse_primer': 'TCACGCCAGAAAGATAACAAAGCAAGACA',\n",
       "  'read_count': 0,\n",
       "  'output_files': {'R1': None, 'R2': None}},\n",
       " 'BC4': {'forward_primer': 'AGTTGTTATGCAAATGGAAGGTGT',\n",
       "  'reverse_primer': 'TCACAGAAAGATGAAAACAAAGCAAGACA',\n",
       "  'read_count': 0,\n",
       "  'output_files': {'R1': None, 'R2': None}},\n",
       " 'BC5': {'forward_primer': 'AGTTGTTATGCAAATGGAAGGTGT',\n",
       "  'reverse_primer': 'TCACAGATGAAAGATAACAAAGCAAGACA',\n",
       "  'read_count': 0,\n",
       "  'output_files': {'R1': None, 'R2': None}},\n",
       " 'BC6': {'forward_primer': 'AGTTGTTATGCAAATGGAAGGTGT',\n",
       "  'reverse_primer': 'TCACGGTAGAAAGATAACAAAGCAAGACA',\n",
       "  'read_count': 0,\n",
       "  'output_files': {'R1': None, 'R2': None}}}"
      ]
     },
     "execution_count": 58,
     "metadata": {},
     "output_type": "execute_result"
    }
   ],
   "source": [
    "read_groups"
   ]
  },
  {
   "cell_type": "code",
   "execution_count": 54,
   "id": "extensive-judgment",
   "metadata": {},
   "outputs": [
    {
     "data": {
      "text/plain": [
       "'GWNJ-1012:466:GW210102944th.Miseq:1:2101:3088:1329'"
      ]
     },
     "execution_count": 54,
     "metadata": {},
     "output_type": "execute_result"
    }
   ],
   "source": [
    "r.id"
   ]
  },
  {
   "cell_type": "code",
   "execution_count": 55,
   "id": "laughing-dancing",
   "metadata": {},
   "outputs": [],
   "source": [
    "def readCheckIDsMatch(read1, read2):\n",
    "    return read1.id == read2.id"
   ]
  },
  {
   "cell_type": "code",
   "execution_count": 83,
   "id": "twelve-knight",
   "metadata": {},
   "outputs": [],
   "source": [
    "def openGroupFiles(read_groups):\n",
    "    for k in read_groups:\n",
    "        read_groups[k]['output_files']['R1'] = open(k + \"_R1.fastq\", \"w\")\n",
    "        read_groups[k]['output_files']['R2'] = open(k + \"_R2.fastq\", \"w\")\n",
    "        \n",
    "def closeGroupFiles(read_groups):\n",
    "    for k in read_groups:\n",
    "        read_groups[k]['output_files']['R1'].close()\n",
    "        read_groups[k]['output_files']['R2'].close()"
   ]
  },
  {
   "cell_type": "code",
   "execution_count": 148,
   "id": "alike-sacramento",
   "metadata": {},
   "outputs": [],
   "source": [
    "import random\n",
    "\n",
    "def assignReadsToGroupRandomly(read1, read2, read_groups):\n",
    "    return random.choice( list(read_groups.keys()) )\n",
    "\n",
    "def assignReadsToGroupByForwardPrimer(read1, read2, read_groups, quality=30):\n",
    "    best_match = {'quality':0, 'group':''}\n",
    "    for group in read_groups:\n",
    "        m = findBestSubsequence(read_groups[group]['forward_primer'],\n",
    "                                read1, min_quality=quality)\n",
    "        if m != None:\n",
    "            if m['quality'] > best_match['quality']:\n",
    "                best_match['quality'] = m['quality']\n",
    "                best_match['group'] = group\n",
    "    for group in read_groups:\n",
    "        m = findBestSubsequence(read_groups[group]['forward_primer'],\n",
    "                                read2, min_quality=quality)\n",
    "        if m != None:\n",
    "            if m['quality'] > best_match['quality']:\n",
    "                best_match['quality'] = m['quality']\n",
    "                best_match['group'] = group\n",
    "    if best_match['quality'] != 0:\n",
    "        return best_match['group']\n",
    "    else:\n",
    "        return None\n",
    "    \n",
    "def assignReadsToGroupByReversePrimer(read1, read2, read_groups, quality=30):\n",
    "    best_match = {'quality':0, 'group':''}\n",
    "    for group in read_groups:\n",
    "        m = findBestSubsequence(read_groups[group]['reverse_primer'],\n",
    "                                read1, min_quality=quality)\n",
    "        if m != None:\n",
    "            if m['quality'] > best_match['quality']:\n",
    "                best_match['quality'] = m['quality']\n",
    "                best_match['group'] = group\n",
    "    for group in read_groups:\n",
    "        m = findBestSubsequence(read_groups[group]['reverse_primer'],\n",
    "                                read2, min_quality=quality)\n",
    "        if m != None:\n",
    "            if m['quality'] > best_match['quality']:\n",
    "                best_match['quality'] = m['quality']\n",
    "                best_match['group'] = group\n",
    "    if best_match['quality'] != 0:\n",
    "        return best_match['group']\n",
    "    else:\n",
    "        return None"
   ]
  },
  {
   "cell_type": "code",
   "execution_count": 149,
   "id": "municipal-description",
   "metadata": {},
   "outputs": [
    {
     "name": "stdout",
     "output_type": "stream",
     "text": [
      "maxReads: 10000\n",
      "Total reads: 10000\n",
      "failed reads: 0\n",
      "unassigned reads: 2852\n",
      "{   'BC1': {   'forward_primer': 'AGTTGTTATGCAAATGGAAGGTGT',\n",
      "               'output_files': {   'R1': <_io.TextIOWrapper name='BC1_R1.fastq' mode='w' encoding='ANSI_X3.4-1968'>,\n",
      "                                   'R2': <_io.TextIOWrapper name='BC1_R2.fastq' mode='w' encoding='ANSI_X3.4-1968'>},\n",
      "               'read_count': 9138,\n",
      "               'reverse_primer': 'TCACGCTCAGAAAGATAACAAAGCAAGACA'},\n",
      "    'BC2': {   'forward_primer': 'AGTTGTTATGCAAATGGAAGGTGT',\n",
      "               'output_files': {   'R1': <_io.TextIOWrapper name='BC2_R1.fastq' mode='w' encoding='ANSI_X3.4-1968'>,\n",
      "                                   'R2': <_io.TextIOWrapper name='BC2_R2.fastq' mode='w' encoding='ANSI_X3.4-1968'>},\n",
      "               'read_count': 3076,\n",
      "               'reverse_primer': 'AAAACTGAGCCAGCCCTTATCCTCTTAA'},\n",
      "    'BC3': {   'forward_primer': 'AGTTGTTATGCAAATGGAAGGTGT',\n",
      "               'output_files': {   'R1': <_io.TextIOWrapper name='BC3_R1.fastq' mode='w' encoding='ANSI_X3.4-1968'>,\n",
      "                                   'R2': <_io.TextIOWrapper name='BC3_R2.fastq' mode='w' encoding='ANSI_X3.4-1968'>},\n",
      "               'read_count': 2119,\n",
      "               'reverse_primer': 'TCACGCCAGAAAGATAACAAAGCAAGACA'},\n",
      "    'BC4': {   'forward_primer': 'AGTTGTTATGCAAATGGAAGGTGT',\n",
      "               'output_files': {   'R1': <_io.TextIOWrapper name='BC4_R1.fastq' mode='w' encoding='ANSI_X3.4-1968'>,\n",
      "                                   'R2': <_io.TextIOWrapper name='BC4_R2.fastq' mode='w' encoding='ANSI_X3.4-1968'>},\n",
      "               'read_count': 646,\n",
      "               'reverse_primer': 'TCACAGAAAGATGAAAACAAAGCAAGACA'},\n",
      "    'BC5': {   'forward_primer': 'AGTTGTTATGCAAATGGAAGGTGT',\n",
      "               'output_files': {   'R1': <_io.TextIOWrapper name='BC5_R1.fastq' mode='w' encoding='ANSI_X3.4-1968'>,\n",
      "                                   'R2': <_io.TextIOWrapper name='BC5_R2.fastq' mode='w' encoding='ANSI_X3.4-1968'>},\n",
      "               'read_count': 1789,\n",
      "               'reverse_primer': 'TCACAGATGAAAGATAACAAAGCAAGACA'},\n",
      "    'BC6': {   'forward_primer': 'AGTTGTTATGCAAATGGAAGGTGT',\n",
      "               'output_files': {   'R1': <_io.TextIOWrapper name='BC6_R1.fastq' mode='w' encoding='ANSI_X3.4-1968'>,\n",
      "                                   'R2': <_io.TextIOWrapper name='BC6_R2.fastq' mode='w' encoding='ANSI_X3.4-1968'>},\n",
      "               'read_count': 1398,\n",
      "               'reverse_primer': 'TCACGGTAGAAAGATAACAAAGCAAGACA'}}\n"
     ]
    }
   ],
   "source": [
    "maxReads = 10000\n",
    "\n",
    "pp = pprint.PrettyPrinter(indent=4)\n",
    "\n",
    "prechecks = [readCheckIDsMatch]\n",
    "assignReadsToGroup = assignReadsToGroupByReversePrimer\n",
    "\n",
    "readNumber = 0\n",
    "failed_reads = 0\n",
    "unassigned_reads = 0\n",
    "\n",
    "# open group files here\n",
    "openGroupFiles(read_groups)\n",
    "\n",
    "with gzip.open(R1_file, \"rt\") as R1, gzip.open(R2_file, \"rt\") as R2:\n",
    "    reads1 = SeqIO.parse(R1, \"fastq\")\n",
    "    reads2 = SeqIO.parse(R2, \"fastq\")\n",
    "    for (read1, read2) in zip(reads1, reads2):\n",
    "        readNumber += 1\n",
    "        if readNumber >= maxReads:\n",
    "            break\n",
    "\n",
    "        # run pre-checks\n",
    "        if any([check(read1, read2)==False for check in prechecks]):\n",
    "            failed_reads += 1\n",
    "            continue\n",
    "            \n",
    "        # assign group\n",
    "        #group = assignReadsToGroupByForwardPrimer(read1, read2, read_groups)\n",
    "        #if group == None:\n",
    "        group = assignReadsToGroupByReversePrimer(read1, read2, read_groups, quality=10)\n",
    "        if group == None:\n",
    "            unassigned_reads += 1\n",
    "            continue\n",
    "        read_groups[group]['read_count'] += 1\n",
    "        \n",
    "        # output reads to group\n",
    "        # print(group)\n",
    "        SeqIO.write(read1, read_groups[group]['output_files']['R1'], \"fastq\") \n",
    "        SeqIO.write(read2, read_groups[group]['output_files']['R2'], \"fastq\") \n",
    "        \n",
    "\n",
    "# close group files here\n",
    "closeGroupFiles(read_groups)\n",
    "            \n",
    "print(\"maxReads: {}\".format(maxReads))\n",
    "print(\"Total reads: {}\".format(readNumber))\n",
    "print(\"failed reads: {}\".format(failed_reads))\n",
    "print(\"unassigned reads: {}\".format(unassigned_reads))\n",
    "pp.pprint(read_groups)"
   ]
  },
  {
   "cell_type": "code",
   "execution_count": 76,
   "id": "numeric-agenda",
   "metadata": {},
   "outputs": [
    {
     "data": {
      "text/plain": [
       "'BC4'"
      ]
     },
     "execution_count": 76,
     "metadata": {},
     "output_type": "execute_result"
    }
   ],
   "source": [
    "random.choice(list(read_groups.keys()))"
   ]
  },
  {
   "cell_type": "code",
   "execution_count": 133,
   "id": "isolated-spotlight",
   "metadata": {},
   "outputs": [
    {
     "name": "stdout",
     "output_type": "stream",
     "text": [
      "Collecting tabulate\n",
      "  Downloading tabulate-0.8.7-py3-none-any.whl (24 kB)\n",
      "Installing collected packages: tabulate\n",
      "Successfully installed tabulate-0.8.7\n",
      "\u001b[33mWARNING: You are using pip version 20.3.3; however, version 21.0.1 is available.\n",
      "You should consider upgrading via the '/opt/miniconda/envs/gatk/bin/python3.6 -m pip install --upgrade pip' command.\u001b[0m\n"
     ]
    }
   ],
   "source": [
    "!pip install tabulate\n",
    "import tabulate"
   ]
  },
  {
   "cell_type": "code",
   "execution_count": 144,
   "id": "healthy-gossip",
   "metadata": {},
   "outputs": [
    {
     "name": "stdout",
     "output_type": "stream",
     "text": [
      "sample        read count\n",
      "----------  ------------\n",
      "BC1                 7297\n",
      "BC2                 1195\n",
      "BC3                  902\n",
      "BC4                  262\n",
      "BC5                  767\n",
      "BC6                  596\n",
      "failed                 0\n",
      "unassigned          6274\n",
      "total              10000\n"
     ]
    }
   ],
   "source": [
    "t = [[k, read_groups[k]['read_count']] for k in read_groups]\n",
    "t.append([\"rejected\", failed_reads])\n",
    "t.append([\"unassigned\", unassigned_reads])\n",
    "t.append([\"total\", readNumber])\n",
    "print(tabulate.tabulate(\n",
    "    t,\n",
    "    headers=[\"sample\",\"read count\"]\n",
    "))"
   ]
  },
  {
   "cell_type": "code",
   "execution_count": 150,
   "id": "herbal-appreciation",
   "metadata": {},
   "outputs": [
    {
     "name": "stdout",
     "output_type": "stream",
     "text": [
      "sample        read count\n",
      "----------  ------------\n",
      "BC1                 9138\n",
      "BC2                 3076\n",
      "BC3                 2119\n",
      "BC4                  646\n",
      "BC5                 1789\n",
      "BC6                 1398\n",
      "failed                 0\n",
      "unassigned          2852\n",
      "total              10000\n"
     ]
    }
   ],
   "source": [
    "t = [[k, read_groups[k]['read_count']] for k in read_groups]\n",
    "t.append([\"failed\", failed_reads])\n",
    "t.append([\"unassigned\", unassigned_reads])\n",
    "t.append([\"total\", readNumber])\n",
    "print(tabulate.tabulate(\n",
    "    t,\n",
    "    headers=[\"sample\",\"read count\"]\n",
    "))"
   ]
  },
  {
   "cell_type": "code",
   "execution_count": 152,
   "id": "occasional-participant",
   "metadata": {},
   "outputs": [
    {
     "ename": "AttributeError",
     "evalue": "'NoneType' object has no attribute 'write'",
     "output_type": "error",
     "traceback": [
      "\u001b[0;31m---------------------------------------------------------------------------\u001b[0m",
      "\u001b[0;31mAttributeError\u001b[0m                            Traceback (most recent call last)",
      "\u001b[0;32m<ipython-input-152-3209239e4d05>\u001b[0m in \u001b[0;36m<module>\u001b[0;34m\u001b[0m\n\u001b[1;32m      1\u001b[0m \u001b[0;31m# read1\u001b[0m\u001b[0;34m\u001b[0m\u001b[0;34m\u001b[0m\u001b[0;34m\u001b[0m\u001b[0m\n\u001b[0;32m----> 2\u001b[0;31m \u001b[0mSeqIO\u001b[0m\u001b[0;34m.\u001b[0m\u001b[0mwrite\u001b[0m\u001b[0;34m(\u001b[0m\u001b[0mread1\u001b[0m\u001b[0;34m,\u001b[0m \u001b[0;32mNone\u001b[0m\u001b[0;34m,\u001b[0m \u001b[0;34m\"fastq\"\u001b[0m\u001b[0;34m)\u001b[0m\u001b[0;34m\u001b[0m\u001b[0;34m\u001b[0m\u001b[0m\n\u001b[0m",
      "\u001b[0;32m/opt/miniconda/envs/gatk/lib/python3.6/site-packages/Bio/SeqIO/__init__.py\u001b[0m in \u001b[0;36mwrite\u001b[0;34m(sequences, handle, format)\u001b[0m\n\u001b[1;32m    555\u001b[0m             \u001b[0mcount\u001b[0m \u001b[0;34m=\u001b[0m \u001b[0;36m0\u001b[0m\u001b[0;34m\u001b[0m\u001b[0;34m\u001b[0m\u001b[0m\n\u001b[1;32m    556\u001b[0m             \u001b[0;32mfor\u001b[0m \u001b[0mrecord\u001b[0m \u001b[0;32min\u001b[0m \u001b[0msequences\u001b[0m\u001b[0;34m:\u001b[0m\u001b[0;34m\u001b[0m\u001b[0;34m\u001b[0m\u001b[0m\n\u001b[0;32m--> 557\u001b[0;31m                 \u001b[0mfp\u001b[0m\u001b[0;34m.\u001b[0m\u001b[0mwrite\u001b[0m\u001b[0;34m(\u001b[0m\u001b[0mformat_function\u001b[0m\u001b[0;34m(\u001b[0m\u001b[0mrecord\u001b[0m\u001b[0;34m)\u001b[0m\u001b[0;34m)\u001b[0m\u001b[0;34m\u001b[0m\u001b[0;34m\u001b[0m\u001b[0m\n\u001b[0m\u001b[1;32m    558\u001b[0m                 \u001b[0mcount\u001b[0m \u001b[0;34m+=\u001b[0m \u001b[0;36m1\u001b[0m\u001b[0;34m\u001b[0m\u001b[0;34m\u001b[0m\u001b[0m\n\u001b[1;32m    559\u001b[0m         \u001b[0;32melif\u001b[0m \u001b[0mformat\u001b[0m \u001b[0;32min\u001b[0m \u001b[0m_FormatToWriter\u001b[0m\u001b[0;34m:\u001b[0m\u001b[0;34m\u001b[0m\u001b[0;34m\u001b[0m\u001b[0m\n",
      "\u001b[0;31mAttributeError\u001b[0m: 'NoneType' object has no attribute 'write'"
     ]
    }
   ],
   "source": [
    "# read1\n",
    "SeqIO.write(read1, None, \"fastq\") "
   ]
  },
  {
   "cell_type": "code",
   "execution_count": null,
   "id": "knowing-reverse",
   "metadata": {},
   "outputs": [],
   "source": []
  }
 ],
 "metadata": {
  "kernelspec": {
   "display_name": "Python 3",
   "language": "python",
   "name": "python3"
  },
  "language_info": {
   "codemirror_mode": {
    "name": "ipython",
    "version": 3
   },
   "file_extension": ".py",
   "mimetype": "text/x-python",
   "name": "python",
   "nbconvert_exporter": "python",
   "pygments_lexer": "ipython3",
   "version": "3.6.10"
  }
 },
 "nbformat": 4,
 "nbformat_minor": 5
}
