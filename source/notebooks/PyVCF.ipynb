{
 "cells": [
  {
   "cell_type": "code",
   "execution_count": 20,
   "metadata": {},
   "outputs": [],
   "source": [
    "import vcf\n",
    "vcf_reader = vcf.Reader(open('/data/nijhawanlab/D0_ACTB2.annotated.vcf', 'r'))"
   ]
  },
  {
   "cell_type": "code",
   "execution_count": 21,
   "metadata": {},
   "outputs": [
    {
     "data": {
      "text/plain": [
       "<vcf.parser.Reader at 0x7febb9af9d68>"
      ]
     },
     "execution_count": 21,
     "metadata": {},
     "output_type": "execute_result"
    }
   ],
   "source": [
    "vcf_reader"
   ]
  },
  {
   "cell_type": "code",
   "execution_count": 22,
   "metadata": {
    "collapsed": true
   },
   "outputs": [
    {
     "data": {
      "text/plain": [
       "OrderedDict([('fileformat', 'VCFv4.2'),\n",
       "             ('GATKCommandLine',\n",
       "              [OrderedDict([('ID', 'GenotypeGVCFs'),\n",
       "                            ('CommandLine',\n",
       "                             '\"GenotypeGVCFs  --output D0_ACTB2.raw.snps.indels.vcf.gz --variant D0_ACTB2.raw.snps.indels.g.vcf.gz --reference /work/archive/PCDC/shared/jkim23/data/igenomes/Homo_sapiens/UCSC/hg38/Sequence/BWAIndex/genome.fa  --include-non-variant-sites false --merge-input-intervals false --input-is-somatic false --tumor-lod-to-emit 3.5 --allele-fraction-error 0.001 --keep-combined-raw-annotations false --use-new-qual-calculator true --annotate-with-num-discovered-alleles false --heterozygosity 0.001 --indel-heterozygosity 1.25E-4 --heterozygosity-stdev 0.01 --standard-min-confidence-threshold-for-calling 30.0 --max-alternate-alleles 6 --max-genotype-count 1024 --sample-ploidy 2 --num-reference-samples-if-no-call 0 --only-output-calls-starting-in-intervals false --interval-set-rule UNION --interval-padding 0 --interval-exclusion-padding 0 --interval-merging-rule ALL --read-validation-stringency SILENT --seconds-between-progress-updates 10.0 --disable-sequence-dictionary-validation false --create-output-bam-index true --create-output-bam-md5 false --create-output-variant-index true --create-output-variant-md5 false --lenient false --add-output-sam-program-record true --add-output-vcf-command-line true --cloud-prefetch-buffer 40 --cloud-index-prefetch-buffer -1 --disable-bam-index-caching false --sites-only-vcf-output false --help false --version false --showHidden false --verbosity INFO --QUIET false --use-jdk-deflater false --use-jdk-inflater false --gcs-max-retries 20 --gcs-project-for-requester-pays  --disable-tool-default-read-filters false --disable-tool-default-annotations false --enable-all-annotations false --allow-old-rms-mapping-quality-annotation-data false\"'),\n",
       "                            ('Version', '\"4.1.4.0\"'),\n",
       "                            ('Date', '\"January 17, 2020 10:00:01 AM CST\"')]),\n",
       "               OrderedDict([('ID', 'HaplotypeCaller'),\n",
       "                            ('CommandLine',\n",
       "                             '\"HaplotypeCaller  --emit-ref-confidence GVCF --output D0_ACTB2.raw.snps.indels.g.vcf.gz --input D0_ACTB2.recal_reads.bam --reference /work/archive/PCDC/shared/jkim23/data/igenomes/Homo_sapiens/UCSC/hg38/Sequence/BWAIndex/genome.fa --annotation-group StandardAnnotation --annotation-group AS_StandardAnnotation  --use-new-qual-calculator true --annotate-with-num-discovered-alleles false --heterozygosity 0.001 --indel-heterozygosity 1.25E-4 --heterozygosity-stdev 0.01 --standard-min-confidence-threshold-for-calling 30.0 --max-alternate-alleles 6 --max-genotype-count 1024 --sample-ploidy 2 --num-reference-samples-if-no-call 0 --contamination-fraction-to-filter 0.0 --output-mode EMIT_VARIANTS_ONLY --all-site-pls false --gvcf-gq-bands 1 --gvcf-gq-bands 2 --gvcf-gq-bands 3 --gvcf-gq-bands 4 --gvcf-gq-bands 5 --gvcf-gq-bands 6 --gvcf-gq-bands 7 --gvcf-gq-bands 8 --gvcf-gq-bands 9 --gvcf-gq-bands 10 --gvcf-gq-bands 11 --gvcf-gq-bands 12 --gvcf-gq-bands 13 --gvcf-gq-bands 14 --gvcf-gq-bands 15 --gvcf-gq-bands 16 --gvcf-gq-bands 17 --gvcf-gq-bands 18 --gvcf-gq-bands 19 --gvcf-gq-bands 20 --gvcf-gq-bands 21 --gvcf-gq-bands 22 --gvcf-gq-bands 23 --gvcf-gq-bands 24 --gvcf-gq-bands 25 --gvcf-gq-bands 26 --gvcf-gq-bands 27 --gvcf-gq-bands 28 --gvcf-gq-bands 29 --gvcf-gq-bands 30 --gvcf-gq-bands 31 --gvcf-gq-bands 32 --gvcf-gq-bands 33 --gvcf-gq-bands 34 --gvcf-gq-bands 35 --gvcf-gq-bands 36 --gvcf-gq-bands 37 --gvcf-gq-bands 38 --gvcf-gq-bands 39 --gvcf-gq-bands 40 --gvcf-gq-bands 41 --gvcf-gq-bands 42 --gvcf-gq-bands 43 --gvcf-gq-bands 44 --gvcf-gq-bands 45 --gvcf-gq-bands 46 --gvcf-gq-bands 47 --gvcf-gq-bands 48 --gvcf-gq-bands 49 --gvcf-gq-bands 50 --gvcf-gq-bands 51 --gvcf-gq-bands 52 --gvcf-gq-bands 53 --gvcf-gq-bands 54 --gvcf-gq-bands 55 --gvcf-gq-bands 56 --gvcf-gq-bands 57 --gvcf-gq-bands 58 --gvcf-gq-bands 59 --gvcf-gq-bands 60 --gvcf-gq-bands 70 --gvcf-gq-bands 80 --gvcf-gq-bands 90 --gvcf-gq-bands 99 --floor-blocks false --indel-size-to-eliminate-in-ref-model 10 --disable-optimizations false --just-determine-active-regions false --dont-genotype false --do-not-run-physical-phasing false --use-filtered-reads-for-annotations false --correct-overlapping-quality false --adaptive-pruning false --do-not-recover-dangling-branches false --recover-dangling-heads false --dont-trim-active-regions false --max-extension 25 --padding-around-indels 150 --padding-around-snps 20 --kmer-size 10 --kmer-size 25 --dont-increase-kmer-sizes-for-cycles false --allow-non-unique-kmers-in-ref false --num-pruning-samples 1 --min-dangling-branch-length 4 --recover-all-dangling-branches false --max-num-haplotypes-in-population 128 --min-pruning 2 --adaptive-pruning-initial-error-rate 0.001 --pruning-lod-threshold 2.302585092994046 --max-unpruned-variants 100 --debug-assembly false --debug-graph-transformations false --capture-assembly-failure-bam false --error-correct-reads false --kmer-length-for-read-error-correction 25 --min-observations-for-kmer-to-be-solid 20 --likelihood-calculation-engine PairHMM --base-quality-score-threshold 18 --pair-hmm-gap-continuation-penalty 10 --pair-hmm-implementation FASTEST_AVAILABLE --pcr-indel-model CONSERVATIVE --phred-scaled-global-read-mismapping-rate 45 --native-pair-hmm-threads 4 --native-pair-hmm-use-double-precision false --bam-writer-type CALLED_HAPLOTYPES --dont-use-soft-clipped-bases false --min-base-quality-score 10 --smith-waterman JAVA --max-mnp-distance 0 --force-call-filtered-alleles false --min-assembly-region-size 50 --max-assembly-region-size 300 --assembly-region-padding 100 --max-reads-per-alignment-start 50 --active-probability-threshold 0.002 --max-prob-propagation-distance 50 --force-active false --interval-set-rule UNION --interval-padding 0 --interval-exclusion-padding 0 --interval-merging-rule ALL --read-validation-stringency SILENT --seconds-between-progress-updates 10.0 --disable-sequence-dictionary-validation false --create-output-bam-index true --create-output-bam-md5 false --create-output-variant-index true --create-output-variant-md5 false --lenient false --add-output-sam-program-record true --add-output-vcf-command-line true --cloud-prefetch-buffer 40 --cloud-index-prefetch-buffer -1 --disable-bam-index-caching false --sites-only-vcf-output false --help false --version false --showHidden false --verbosity INFO --QUIET false --use-jdk-deflater false --use-jdk-inflater false --gcs-max-retries 20 --gcs-project-for-requester-pays  --disable-tool-default-read-filters false --minimum-mapping-quality 20 --disable-tool-default-annotations false --enable-all-annotations false --allow-old-rms-mapping-quality-annotation-data false\"'),\n",
       "                            ('Version', '\"4.1.4.0\"'),\n",
       "                            ('Date', '\"January 17, 2020 7:20:24 AM CST\"')])]),\n",
       "             ('source', ['GenotypeGVCFs', 'HaplotypeCaller'])])"
      ]
     },
     "execution_count": 22,
     "metadata": {},
     "output_type": "execute_result"
    }
   ],
   "source": [
    "vcf_reader.metadata"
   ]
  },
  {
   "cell_type": "code",
   "execution_count": 4,
   "metadata": {},
   "outputs": [
    {
     "data": {
      "text/plain": [
       "OrderedDict([('LowQual', Filter(id='LowQual', desc='Low quality'))])"
      ]
     },
     "execution_count": 4,
     "metadata": {},
     "output_type": "execute_result"
    }
   ],
   "source": [
    "vcf_reader.filters"
   ]
  },
  {
   "cell_type": "code",
   "execution_count": 5,
   "metadata": {},
   "outputs": [
    {
     "data": {
      "text/plain": [
       "['D0_ACTB2']"
      ]
     },
     "execution_count": 5,
     "metadata": {},
     "output_type": "execute_result"
    }
   ],
   "source": [
    "vcf_reader.samples"
   ]
  },
  {
   "cell_type": "code",
   "execution_count": 6,
   "metadata": {
    "collapsed": true
   },
   "outputs": [
    {
     "data": {
      "text/plain": [
       "OrderedDict([('AC',\n",
       "              Info(id='AC', num=-1, type='Integer', desc='Allele count in genotypes, for each ALT allele, in the same order as listed', source=None, version=None)),\n",
       "             ('AF',\n",
       "              Info(id='AF', num=-1, type='Float', desc='Allele Frequency, for each ALT allele, in the same order as listed', source=None, version=None)),\n",
       "             ('AN',\n",
       "              Info(id='AN', num=1, type='Integer', desc='Total number of alleles in called genotypes', source=None, version=None)),\n",
       "             ('AS_InbreedingCoeff',\n",
       "              Info(id='AS_InbreedingCoeff', num=-1, type='Float', desc='allele specific heterozygosity as estimated from the genotype likelihoods per-sample when compared against the Hardy-Weinberg expectation; relate to inbreeding coefficient', source=None, version=None)),\n",
       "             ('AS_QD',\n",
       "              Info(id='AS_QD', num=-1, type='Float', desc='Allele-specific Variant Confidence/Quality by Depth', source=None, version=None)),\n",
       "             ('AS_RAW_BaseQRankSum',\n",
       "              Info(id='AS_RAW_BaseQRankSum', num=1, type='String', desc='raw data for allele specific rank sum test of base qualities', source=None, version=None)),\n",
       "             ('AS_RAW_MQ',\n",
       "              Info(id='AS_RAW_MQ', num=1, type='String', desc='Allele-specfic raw data for RMS Mapping Quality', source=None, version=None)),\n",
       "             ('AS_RAW_MQRankSum',\n",
       "              Info(id='AS_RAW_MQRankSum', num=1, type='String', desc='Allele-specfic raw data for Mapping Quality Rank Sum', source=None, version=None)),\n",
       "             ('AS_RAW_ReadPosRankSum',\n",
       "              Info(id='AS_RAW_ReadPosRankSum', num=1, type='String', desc='allele specific raw data for rank sum test of read position bias', source=None, version=None)),\n",
       "             ('AS_SB_TABLE',\n",
       "              Info(id='AS_SB_TABLE', num=1, type='String', desc='Allele-specific forward/reverse read counts for strand bias tests', source=None, version=None)),\n",
       "             ('BaseQRankSum',\n",
       "              Info(id='BaseQRankSum', num=1, type='Float', desc='Z-score from Wilcoxon rank sum test of Alt Vs. Ref base qualities', source=None, version=None)),\n",
       "             ('DP',\n",
       "              Info(id='DP', num=1, type='Integer', desc='Approximate read depth; some reads may have been filtered', source=None, version=None)),\n",
       "             ('DS',\n",
       "              Info(id='DS', num=0, type='Flag', desc='Were any of the samples downsampled?', source=None, version=None)),\n",
       "             ('END',\n",
       "              Info(id='END', num=1, type='Integer', desc='Stop position of the interval', source=None, version=None)),\n",
       "             ('ExcessHet',\n",
       "              Info(id='ExcessHet', num=1, type='Float', desc='Phred-scaled p-value for exact test of excess heterozygosity', source=None, version=None)),\n",
       "             ('FS',\n",
       "              Info(id='FS', num=1, type='Float', desc=\"Phred-scaled p-value using Fisher's exact test to detect strand bias\", source=None, version=None)),\n",
       "             ('InbreedingCoeff',\n",
       "              Info(id='InbreedingCoeff', num=1, type='Float', desc='Inbreeding coefficient as estimated from the genotype likelihoods per-sample when compared against the Hardy-Weinberg expectation', source=None, version=None)),\n",
       "             ('MLEAC',\n",
       "              Info(id='MLEAC', num=-1, type='Integer', desc='Maximum likelihood expectation (MLE) for the allele counts (not necessarily the same as the AC), for each ALT allele, in the same order as listed', source=None, version=None)),\n",
       "             ('MLEAF',\n",
       "              Info(id='MLEAF', num=-1, type='Float', desc='Maximum likelihood expectation (MLE) for the allele frequency (not necessarily the same as the AF), for each ALT allele, in the same order as listed', source=None, version=None)),\n",
       "             ('MQ',\n",
       "              Info(id='MQ', num=1, type='Float', desc='RMS Mapping Quality', source=None, version=None)),\n",
       "             ('MQRankSum',\n",
       "              Info(id='MQRankSum', num=1, type='Float', desc='Z-score From Wilcoxon rank sum test of Alt vs. Ref read mapping qualities', source=None, version=None)),\n",
       "             ('QD',\n",
       "              Info(id='QD', num=1, type='Float', desc='Variant Confidence/Quality by Depth', source=None, version=None)),\n",
       "             ('RAW_MQandDP',\n",
       "              Info(id='RAW_MQandDP', num=2, type='Integer', desc='Raw data (sum of squared MQ and total depth) for improved RMS Mapping Quality calculation. Incompatible with deprecated RAW_MQ formulation.', source=None, version=None)),\n",
       "             ('ReadPosRankSum',\n",
       "              Info(id='ReadPosRankSum', num=1, type='Float', desc='Z-score from Wilcoxon rank sum test of Alt vs. Ref read position bias', source=None, version=None)),\n",
       "             ('SOR',\n",
       "              Info(id='SOR', num=1, type='Float', desc='Symmetric Odds Ratio of 2x2 contingency table to detect strand bias', source=None, version=None))])"
      ]
     },
     "execution_count": 6,
     "metadata": {},
     "output_type": "execute_result"
    }
   ],
   "source": [
    "vcf_reader.infos"
   ]
  },
  {
   "cell_type": "code",
   "execution_count": 23,
   "metadata": {},
   "outputs": [],
   "source": [
    "r1=next(vcf_reader)"
   ]
  },
  {
   "cell_type": "code",
   "execution_count": 24,
   "metadata": {},
   "outputs": [
    {
     "data": {
      "text/plain": [
       "<vcf.model._Record at 0x7febb9b0ae10>"
      ]
     },
     "execution_count": 24,
     "metadata": {},
     "output_type": "execute_result"
    }
   ],
   "source": [
    "r1"
   ]
  },
  {
   "cell_type": "code",
   "execution_count": 9,
   "metadata": {},
   "outputs": [
    {
     "name": "stdout",
     "output_type": "stream",
     "text": [
      "Record(CHROM=chr1, POS=14248, REF=T, ALT=[G])\n"
     ]
    }
   ],
   "source": [
    "print(r1)"
   ]
  },
  {
   "cell_type": "code",
   "execution_count": 10,
   "metadata": {},
   "outputs": [
    {
     "data": {
      "text/plain": [
       "54.28"
      ]
     },
     "execution_count": 10,
     "metadata": {},
     "output_type": "execute_result"
    }
   ],
   "source": [
    "r1.QUAL"
   ]
  },
  {
   "cell_type": "code",
   "execution_count": 11,
   "metadata": {},
   "outputs": [
    {
     "data": {
      "text/plain": [
       "['DP', 'GQ', 'MQ']"
      ]
     },
     "execution_count": 11,
     "metadata": {},
     "output_type": "execute_result"
    }
   ],
   "source": [
    "r1.FILTER"
   ]
  },
  {
   "cell_type": "code",
   "execution_count": 12,
   "metadata": {},
   "outputs": [
    {
     "data": {
      "text/plain": [
       "{'AC': [2],\n",
       " 'AF': [1.0],\n",
       " 'AN': 2,\n",
       " 'DP': 2,\n",
       " 'ExcessHet': 3.0103,\n",
       " 'FS': 0.0,\n",
       " 'MLEAC': [1],\n",
       " 'MLEAF': [0.5],\n",
       " 'MQ': 28.16,\n",
       " 'QD': 27.14,\n",
       " 'SOR': 2.303,\n",
       " 'Annomen.geneName': ['DDX11L1'],\n",
       " 'Annomen.region': ['non_coding_exon'],\n",
       " 'Annomen.strand': ['+'],\n",
       " 'Annomen.spliceDistance': ['-162'],\n",
       " 'Annomen.transcriptId': ['NR_046018.2'],\n",
       " 'Annomen.proteinId': [''],\n",
       " 'Annomen.nucleotideVariationNomenclature': ['r.1491T>G'],\n",
       " 'snp151.name': ['rs1258110102'],\n",
       " 'snp151.subset': [''],\n",
       " 'snp151.alleleN': [''],\n",
       " 'snp151.alleleFreq': [''],\n",
       " 'CADD.RawScore': ['0.209183'],\n",
       " 'CADD.PHRED': ['4.181']}"
      ]
     },
     "execution_count": 12,
     "metadata": {},
     "output_type": "execute_result"
    }
   ],
   "source": [
    "r1.INFO"
   ]
  },
  {
   "cell_type": "code",
   "execution_count": 13,
   "metadata": {},
   "outputs": [
    {
     "data": {
      "text/plain": [
       "<bound method _Record.genotype of <vcf.model._Record object at 0x7febf01ba940>>"
      ]
     },
     "execution_count": 13,
     "metadata": {},
     "output_type": "execute_result"
    }
   ],
   "source": [
    "r1.genotype"
   ]
  },
  {
   "cell_type": "code",
   "execution_count": 14,
   "metadata": {},
   "outputs": [
    {
     "data": {
      "text/plain": [
       "[Call(sample=D0_ACTB2, CallData(GT=1/1, AD=[0, 2], DP=2, GQ=6, PL=[66, 6, 0]))]"
      ]
     },
     "execution_count": 14,
     "metadata": {},
     "output_type": "execute_result"
    }
   ],
   "source": [
    "r1.samples"
   ]
  },
  {
   "cell_type": "code",
   "execution_count": 15,
   "metadata": {},
   "outputs": [
    {
     "data": {
      "text/plain": [
       "'GT:AD:DP:GQ:PL'"
      ]
     },
     "execution_count": 15,
     "metadata": {},
     "output_type": "execute_result"
    }
   ],
   "source": [
    "r1.FORMAT"
   ]
  },
  {
   "cell_type": "code",
   "execution_count": 16,
   "metadata": {},
   "outputs": [],
   "source": [
    "r1.ID"
   ]
  },
  {
   "cell_type": "code",
   "execution_count": 17,
   "metadata": {},
   "outputs": [
    {
     "data": {
      "text/plain": [
       "[1.0]"
      ]
     },
     "execution_count": 17,
     "metadata": {},
     "output_type": "execute_result"
    }
   ],
   "source": [
    "r1.aaf"
   ]
  },
  {
   "cell_type": "code",
   "execution_count": 18,
   "metadata": {},
   "outputs": [
    {
     "data": {
      "text/plain": [
       "['T', G]"
      ]
     },
     "execution_count": 18,
     "metadata": {},
     "output_type": "execute_result"
    }
   ],
   "source": [
    "r1.alleles"
   ]
  },
  {
   "cell_type": "code",
   "execution_count": 25,
   "metadata": {},
   "outputs": [
    {
     "data": {
      "text/plain": [
       "{'CHROM': 'chr1',\n",
       " 'POS': 14248,\n",
       " 'ID': None,\n",
       " 'REF': 'T',\n",
       " 'ALT': [G],\n",
       " 'QUAL': 54.28,\n",
       " 'FILTER': ['DP', 'GQ', 'MQ'],\n",
       " 'INFO': {'AC': [2],\n",
       "  'AF': [1.0],\n",
       "  'AN': 2,\n",
       "  'DP': 2,\n",
       "  'ExcessHet': 3.0103,\n",
       "  'FS': 0.0,\n",
       "  'MLEAC': [1],\n",
       "  'MLEAF': [0.5],\n",
       "  'MQ': 28.16,\n",
       "  'QD': 27.14,\n",
       "  'SOR': 2.303,\n",
       "  'Annomen.geneName': ['DDX11L1'],\n",
       "  'Annomen.region': ['non_coding_exon'],\n",
       "  'Annomen.strand': ['+'],\n",
       "  'Annomen.spliceDistance': ['-162'],\n",
       "  'Annomen.transcriptId': ['NR_046018.2'],\n",
       "  'Annomen.proteinId': [''],\n",
       "  'Annomen.nucleotideVariationNomenclature': ['r.1491T>G'],\n",
       "  'snp151.name': ['rs1258110102'],\n",
       "  'snp151.subset': [''],\n",
       "  'snp151.alleleN': [''],\n",
       "  'snp151.alleleFreq': [''],\n",
       "  'CADD.RawScore': ['0.209183'],\n",
       "  'CADD.PHRED': ['4.181']},\n",
       " 'FORMAT': 'GT:AD:DP:GQ:PL',\n",
       " 'start': 14247,\n",
       " 'end': 14248,\n",
       " 'alleles': ['T', G],\n",
       " 'samples': [Call(sample=D0_ACTB2, CallData(GT=1/1, AD=[0, 2], DP=2, GQ=6, PL=[66, 6, 0]))],\n",
       " '_sample_indexes': {'D0_ACTB2': 0},\n",
       " 'affected_start': 14247,\n",
       " 'affected_end': 14248}"
      ]
     },
     "execution_count": 25,
     "metadata": {},
     "output_type": "execute_result"
    }
   ],
   "source": [
    "vars(r1)"
   ]
  },
  {
   "cell_type": "code",
   "execution_count": 55,
   "metadata": {},
   "outputs": [],
   "source": [
    "row_num=0\n",
    "row_max=1000\n",
    "row_list = []\n",
    "vcf_reader = vcf.Reader(open('/data/nijhawanlab/D0_ACTB2.annotated.vcf', 'r'))\n",
    "for r in vcf_reader:\n",
    "    # print(r)\n",
    "    # print(vars(r))\n",
    "    new_row = vars(r)\n",
    "    new_row['aaf']=r.aaf\n",
    "    row_list.append(new_row)\n",
    "    row_num+=1\n",
    "    if(row_num >= row_max):\n",
    "        break\n",
    "# print('\\nRow List:', row_list)"
   ]
  },
  {
   "cell_type": "code",
   "execution_count": 56,
   "metadata": {},
   "outputs": [],
   "source": [
    "row_df = pd.DataFrame(row_list)"
   ]
  },
  {
   "cell_type": "code",
   "execution_count": 57,
   "metadata": {},
   "outputs": [
    {
     "data": {
      "text/html": [
       "<div>\n",
       "<style scoped>\n",
       "    .dataframe tbody tr th:only-of-type {\n",
       "        vertical-align: middle;\n",
       "    }\n",
       "\n",
       "    .dataframe tbody tr th {\n",
       "        vertical-align: top;\n",
       "    }\n",
       "\n",
       "    .dataframe thead th {\n",
       "        text-align: right;\n",
       "    }\n",
       "</style>\n",
       "<table border=\"1\" class=\"dataframe\">\n",
       "  <thead>\n",
       "    <tr style=\"text-align: right;\">\n",
       "      <th></th>\n",
       "      <th>CHROM</th>\n",
       "      <th>POS</th>\n",
       "      <th>ID</th>\n",
       "      <th>REF</th>\n",
       "      <th>ALT</th>\n",
       "      <th>QUAL</th>\n",
       "      <th>FILTER</th>\n",
       "      <th>INFO</th>\n",
       "      <th>FORMAT</th>\n",
       "      <th>start</th>\n",
       "      <th>end</th>\n",
       "      <th>alleles</th>\n",
       "      <th>samples</th>\n",
       "      <th>_sample_indexes</th>\n",
       "      <th>affected_start</th>\n",
       "      <th>affected_end</th>\n",
       "      <th>aaf</th>\n",
       "    </tr>\n",
       "  </thead>\n",
       "  <tbody>\n",
       "    <tr>\n",
       "      <th>0</th>\n",
       "      <td>chr1</td>\n",
       "      <td>14248</td>\n",
       "      <td>None</td>\n",
       "      <td>T</td>\n",
       "      <td>[G]</td>\n",
       "      <td>54.28</td>\n",
       "      <td>[DP, GQ, MQ]</td>\n",
       "      <td>{'AC': [2], 'AF': [1.0], 'AN': 2, 'DP': 2, 'Ex...</td>\n",
       "      <td>GT:AD:DP:GQ:PL</td>\n",
       "      <td>14247</td>\n",
       "      <td>14248</td>\n",
       "      <td>[T, G]</td>\n",
       "      <td>[Call(sample=D0_ACTB2, CallData(GT=1/1, AD=[0,...</td>\n",
       "      <td>{'D0_ACTB2': 0}</td>\n",
       "      <td>14247</td>\n",
       "      <td>14248</td>\n",
       "      <td>[1.0]</td>\n",
       "    </tr>\n",
       "    <tr>\n",
       "      <th>1</th>\n",
       "      <td>chr1</td>\n",
       "      <td>14542</td>\n",
       "      <td>None</td>\n",
       "      <td>A</td>\n",
       "      <td>[G]</td>\n",
       "      <td>39.60</td>\n",
       "      <td>[MQ, QD]</td>\n",
       "      <td>{'AC': [1], 'AF': [0.5], 'AN': 2, 'BaseQRankSu...</td>\n",
       "      <td>GT:AD:DP:GQ:PL</td>\n",
       "      <td>14541</td>\n",
       "      <td>14542</td>\n",
       "      <td>[A, G]</td>\n",
       "      <td>[Call(sample=D0_ACTB2, CallData(GT=0/1, AD=[18...</td>\n",
       "      <td>{'D0_ACTB2': 0}</td>\n",
       "      <td>14541</td>\n",
       "      <td>14542</td>\n",
       "      <td>[0.5]</td>\n",
       "    </tr>\n",
       "    <tr>\n",
       "      <th>2</th>\n",
       "      <td>chr1</td>\n",
       "      <td>14574</td>\n",
       "      <td>None</td>\n",
       "      <td>A</td>\n",
       "      <td>[G]</td>\n",
       "      <td>116.60</td>\n",
       "      <td>[MQ]</td>\n",
       "      <td>{'AC': [1], 'AF': [0.5], 'AN': 2, 'BaseQRankSu...</td>\n",
       "      <td>GT:AD:DP:GQ:PL</td>\n",
       "      <td>14573</td>\n",
       "      <td>14574</td>\n",
       "      <td>[A, G]</td>\n",
       "      <td>[Call(sample=D0_ACTB2, CallData(GT=0/1, AD=[26...</td>\n",
       "      <td>{'D0_ACTB2': 0}</td>\n",
       "      <td>14573</td>\n",
       "      <td>14574</td>\n",
       "      <td>[0.5]</td>\n",
       "    </tr>\n",
       "    <tr>\n",
       "      <th>3</th>\n",
       "      <td>chr1</td>\n",
       "      <td>14599</td>\n",
       "      <td>None</td>\n",
       "      <td>T</td>\n",
       "      <td>[A]</td>\n",
       "      <td>217.60</td>\n",
       "      <td>[MQ]</td>\n",
       "      <td>{'AC': [1], 'AF': [0.5], 'AN': 2, 'BaseQRankSu...</td>\n",
       "      <td>GT:AD:DP:GQ:PGT:PID:PL:PS</td>\n",
       "      <td>14598</td>\n",
       "      <td>14599</td>\n",
       "      <td>[T, A]</td>\n",
       "      <td>[Call(sample=D0_ACTB2, CallData(GT=0|1, AD=[35...</td>\n",
       "      <td>{'D0_ACTB2': 0}</td>\n",
       "      <td>14598</td>\n",
       "      <td>14599</td>\n",
       "      <td>[0.5]</td>\n",
       "    </tr>\n",
       "    <tr>\n",
       "      <th>4</th>\n",
       "      <td>chr1</td>\n",
       "      <td>14604</td>\n",
       "      <td>None</td>\n",
       "      <td>A</td>\n",
       "      <td>[G]</td>\n",
       "      <td>220.60</td>\n",
       "      <td>[MQ]</td>\n",
       "      <td>{'AC': [1], 'AF': [0.5], 'AN': 2, 'BaseQRankSu...</td>\n",
       "      <td>GT:AD:DP:GQ:PGT:PID:PL:PS</td>\n",
       "      <td>14603</td>\n",
       "      <td>14604</td>\n",
       "      <td>[A, G]</td>\n",
       "      <td>[Call(sample=D0_ACTB2, CallData(GT=0|1, AD=[40...</td>\n",
       "      <td>{'D0_ACTB2': 0}</td>\n",
       "      <td>14603</td>\n",
       "      <td>14604</td>\n",
       "      <td>[0.5]</td>\n",
       "    </tr>\n",
       "    <tr>\n",
       "      <th>...</th>\n",
       "      <td>...</td>\n",
       "      <td>...</td>\n",
       "      <td>...</td>\n",
       "      <td>...</td>\n",
       "      <td>...</td>\n",
       "      <td>...</td>\n",
       "      <td>...</td>\n",
       "      <td>...</td>\n",
       "      <td>...</td>\n",
       "      <td>...</td>\n",
       "      <td>...</td>\n",
       "      <td>...</td>\n",
       "      <td>...</td>\n",
       "      <td>...</td>\n",
       "      <td>...</td>\n",
       "      <td>...</td>\n",
       "      <td>...</td>\n",
       "    </tr>\n",
       "    <tr>\n",
       "      <th>995</th>\n",
       "      <td>chr1</td>\n",
       "      <td>3845516</td>\n",
       "      <td>None</td>\n",
       "      <td>T</td>\n",
       "      <td>[C]</td>\n",
       "      <td>166.10</td>\n",
       "      <td>[]</td>\n",
       "      <td>{'AC': [2], 'AF': [1.0], 'AN': 2, 'DP': 4, 'Ex...</td>\n",
       "      <td>GT:AD:DP:GQ:PGT:PID:PL:PS</td>\n",
       "      <td>3845515</td>\n",
       "      <td>3845516</td>\n",
       "      <td>[T, C]</td>\n",
       "      <td>[Call(sample=D0_ACTB2, CallData(GT=1|1, AD=[0,...</td>\n",
       "      <td>{'D0_ACTB2': 0}</td>\n",
       "      <td>3845515</td>\n",
       "      <td>3845516</td>\n",
       "      <td>[1.0]</td>\n",
       "    </tr>\n",
       "    <tr>\n",
       "      <th>996</th>\n",
       "      <td>chr1</td>\n",
       "      <td>3847300</td>\n",
       "      <td>None</td>\n",
       "      <td>G</td>\n",
       "      <td>[A]</td>\n",
       "      <td>692.03</td>\n",
       "      <td>[]</td>\n",
       "      <td>{'AC': [2], 'AF': [1.0], 'AN': 2, 'DP': 19, 'E...</td>\n",
       "      <td>GT:AD:DP:GQ:PL</td>\n",
       "      <td>3847299</td>\n",
       "      <td>3847300</td>\n",
       "      <td>[G, A]</td>\n",
       "      <td>[Call(sample=D0_ACTB2, CallData(GT=1/1, AD=[0,...</td>\n",
       "      <td>{'D0_ACTB2': 0}</td>\n",
       "      <td>3847299</td>\n",
       "      <td>3847300</td>\n",
       "      <td>[1.0]</td>\n",
       "    </tr>\n",
       "    <tr>\n",
       "      <th>997</th>\n",
       "      <td>chr1</td>\n",
       "      <td>3847897</td>\n",
       "      <td>None</td>\n",
       "      <td>C</td>\n",
       "      <td>[T]</td>\n",
       "      <td>62.28</td>\n",
       "      <td>[DP, GQ]</td>\n",
       "      <td>{'AC': [2], 'AF': [1.0], 'AN': 2, 'DP': 2, 'Ex...</td>\n",
       "      <td>GT:AD:DP:GQ:PL</td>\n",
       "      <td>3847896</td>\n",
       "      <td>3847897</td>\n",
       "      <td>[C, T]</td>\n",
       "      <td>[Call(sample=D0_ACTB2, CallData(GT=1/1, AD=[0,...</td>\n",
       "      <td>{'D0_ACTB2': 0}</td>\n",
       "      <td>3847896</td>\n",
       "      <td>3847897</td>\n",
       "      <td>[1.0]</td>\n",
       "    </tr>\n",
       "    <tr>\n",
       "      <th>998</th>\n",
       "      <td>chr1</td>\n",
       "      <td>3848389</td>\n",
       "      <td>None</td>\n",
       "      <td>G</td>\n",
       "      <td>[A]</td>\n",
       "      <td>213.60</td>\n",
       "      <td>[]</td>\n",
       "      <td>{'AC': [1], 'AF': [0.5], 'AN': 2, 'BaseQRankSu...</td>\n",
       "      <td>GT:AD:DP:GQ:PL</td>\n",
       "      <td>3848388</td>\n",
       "      <td>3848389</td>\n",
       "      <td>[G, A]</td>\n",
       "      <td>[Call(sample=D0_ACTB2, CallData(GT=0/1, AD=[6,...</td>\n",
       "      <td>{'D0_ACTB2': 0}</td>\n",
       "      <td>3848388</td>\n",
       "      <td>3848389</td>\n",
       "      <td>[0.5]</td>\n",
       "    </tr>\n",
       "    <tr>\n",
       "      <th>999</th>\n",
       "      <td>chr1</td>\n",
       "      <td>3848531</td>\n",
       "      <td>None</td>\n",
       "      <td>CAAA</td>\n",
       "      <td>[C, CAA]</td>\n",
       "      <td>1068.10</td>\n",
       "      <td>[]</td>\n",
       "      <td>{'AC': [1, 1], 'AF': [0.5, 0.5], 'AN': 2, 'DP'...</td>\n",
       "      <td>GT:AD:DP:GQ:PL</td>\n",
       "      <td>3848530</td>\n",
       "      <td>3848534</td>\n",
       "      <td>[CAAA, C, CAA]</td>\n",
       "      <td>[Call(sample=D0_ACTB2, CallData(GT=1/2, AD=[0,...</td>\n",
       "      <td>{'D0_ACTB2': 0}</td>\n",
       "      <td>3848531</td>\n",
       "      <td>3848534</td>\n",
       "      <td>[0.5, 0.5]</td>\n",
       "    </tr>\n",
       "  </tbody>\n",
       "</table>\n",
       "<p>1000 rows × 17 columns</p>\n",
       "</div>"
      ],
      "text/plain": [
       "    CHROM      POS    ID   REF       ALT     QUAL        FILTER  \\\n",
       "0    chr1    14248  None     T       [G]    54.28  [DP, GQ, MQ]   \n",
       "1    chr1    14542  None     A       [G]    39.60      [MQ, QD]   \n",
       "2    chr1    14574  None     A       [G]   116.60          [MQ]   \n",
       "3    chr1    14599  None     T       [A]   217.60          [MQ]   \n",
       "4    chr1    14604  None     A       [G]   220.60          [MQ]   \n",
       "..    ...      ...   ...   ...       ...      ...           ...   \n",
       "995  chr1  3845516  None     T       [C]   166.10            []   \n",
       "996  chr1  3847300  None     G       [A]   692.03            []   \n",
       "997  chr1  3847897  None     C       [T]    62.28      [DP, GQ]   \n",
       "998  chr1  3848389  None     G       [A]   213.60            []   \n",
       "999  chr1  3848531  None  CAAA  [C, CAA]  1068.10            []   \n",
       "\n",
       "                                                  INFO  \\\n",
       "0    {'AC': [2], 'AF': [1.0], 'AN': 2, 'DP': 2, 'Ex...   \n",
       "1    {'AC': [1], 'AF': [0.5], 'AN': 2, 'BaseQRankSu...   \n",
       "2    {'AC': [1], 'AF': [0.5], 'AN': 2, 'BaseQRankSu...   \n",
       "3    {'AC': [1], 'AF': [0.5], 'AN': 2, 'BaseQRankSu...   \n",
       "4    {'AC': [1], 'AF': [0.5], 'AN': 2, 'BaseQRankSu...   \n",
       "..                                                 ...   \n",
       "995  {'AC': [2], 'AF': [1.0], 'AN': 2, 'DP': 4, 'Ex...   \n",
       "996  {'AC': [2], 'AF': [1.0], 'AN': 2, 'DP': 19, 'E...   \n",
       "997  {'AC': [2], 'AF': [1.0], 'AN': 2, 'DP': 2, 'Ex...   \n",
       "998  {'AC': [1], 'AF': [0.5], 'AN': 2, 'BaseQRankSu...   \n",
       "999  {'AC': [1, 1], 'AF': [0.5, 0.5], 'AN': 2, 'DP'...   \n",
       "\n",
       "                        FORMAT    start      end         alleles  \\\n",
       "0               GT:AD:DP:GQ:PL    14247    14248          [T, G]   \n",
       "1               GT:AD:DP:GQ:PL    14541    14542          [A, G]   \n",
       "2               GT:AD:DP:GQ:PL    14573    14574          [A, G]   \n",
       "3    GT:AD:DP:GQ:PGT:PID:PL:PS    14598    14599          [T, A]   \n",
       "4    GT:AD:DP:GQ:PGT:PID:PL:PS    14603    14604          [A, G]   \n",
       "..                         ...      ...      ...             ...   \n",
       "995  GT:AD:DP:GQ:PGT:PID:PL:PS  3845515  3845516          [T, C]   \n",
       "996             GT:AD:DP:GQ:PL  3847299  3847300          [G, A]   \n",
       "997             GT:AD:DP:GQ:PL  3847896  3847897          [C, T]   \n",
       "998             GT:AD:DP:GQ:PL  3848388  3848389          [G, A]   \n",
       "999             GT:AD:DP:GQ:PL  3848530  3848534  [CAAA, C, CAA]   \n",
       "\n",
       "                                               samples  _sample_indexes  \\\n",
       "0    [Call(sample=D0_ACTB2, CallData(GT=1/1, AD=[0,...  {'D0_ACTB2': 0}   \n",
       "1    [Call(sample=D0_ACTB2, CallData(GT=0/1, AD=[18...  {'D0_ACTB2': 0}   \n",
       "2    [Call(sample=D0_ACTB2, CallData(GT=0/1, AD=[26...  {'D0_ACTB2': 0}   \n",
       "3    [Call(sample=D0_ACTB2, CallData(GT=0|1, AD=[35...  {'D0_ACTB2': 0}   \n",
       "4    [Call(sample=D0_ACTB2, CallData(GT=0|1, AD=[40...  {'D0_ACTB2': 0}   \n",
       "..                                                 ...              ...   \n",
       "995  [Call(sample=D0_ACTB2, CallData(GT=1|1, AD=[0,...  {'D0_ACTB2': 0}   \n",
       "996  [Call(sample=D0_ACTB2, CallData(GT=1/1, AD=[0,...  {'D0_ACTB2': 0}   \n",
       "997  [Call(sample=D0_ACTB2, CallData(GT=1/1, AD=[0,...  {'D0_ACTB2': 0}   \n",
       "998  [Call(sample=D0_ACTB2, CallData(GT=0/1, AD=[6,...  {'D0_ACTB2': 0}   \n",
       "999  [Call(sample=D0_ACTB2, CallData(GT=1/2, AD=[0,...  {'D0_ACTB2': 0}   \n",
       "\n",
       "     affected_start  affected_end         aaf  \n",
       "0             14247         14248       [1.0]  \n",
       "1             14541         14542       [0.5]  \n",
       "2             14573         14574       [0.5]  \n",
       "3             14598         14599       [0.5]  \n",
       "4             14603         14604       [0.5]  \n",
       "..              ...           ...         ...  \n",
       "995         3845515       3845516       [1.0]  \n",
       "996         3847299       3847300       [1.0]  \n",
       "997         3847896       3847897       [1.0]  \n",
       "998         3848388       3848389       [0.5]  \n",
       "999         3848531       3848534  [0.5, 0.5]  \n",
       "\n",
       "[1000 rows x 17 columns]"
      ]
     },
     "execution_count": 57,
     "metadata": {},
     "output_type": "execute_result"
    }
   ],
   "source": [
    "row_df"
   ]
  },
  {
   "cell_type": "code",
   "execution_count": 58,
   "metadata": {},
   "outputs": [
    {
     "data": {
      "text/plain": [
       "0           [1.0]\n",
       "1           [0.5]\n",
       "2           [0.5]\n",
       "3           [0.5]\n",
       "4           [0.5]\n",
       "          ...    \n",
       "995         [1.0]\n",
       "996         [1.0]\n",
       "997         [1.0]\n",
       "998         [0.5]\n",
       "999    [0.5, 0.5]\n",
       "Name: aaf, Length: 1000, dtype: object"
      ]
     },
     "execution_count": 58,
     "metadata": {},
     "output_type": "execute_result"
    }
   ],
   "source": [
    "row_df['aaf']"
   ]
  },
  {
   "cell_type": "code",
   "execution_count": null,
   "metadata": {},
   "outputs": [],
   "source": []
  }
 ],
 "metadata": {
  "kernelspec": {
   "display_name": "Python 3",
   "language": "python",
   "name": "python3"
  },
  "language_info": {
   "codemirror_mode": {
    "name": "ipython",
    "version": 3
   },
   "file_extension": ".py",
   "mimetype": "text/x-python",
   "name": "python",
   "nbconvert_exporter": "python",
   "pygments_lexer": "ipython3",
   "version": "3.6.10"
  }
 },
 "nbformat": 4,
 "nbformat_minor": 4
}
