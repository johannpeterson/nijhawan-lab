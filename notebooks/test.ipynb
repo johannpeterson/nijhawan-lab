{
 "cells": [
  {
   "cell_type": "markdown",
   "metadata": {},
   "source": [
    "# Intro"
   ]
  },
  {
   "cell_type": "markdown",
   "metadata": {},
   "source": [
    "This is a sample notebook.  It should be written to the local mapped drive."
   ]
  },
  {
   "cell_type": "code",
   "execution_count": 1,
   "metadata": {},
   "outputs": [
    {
     "data": {
      "text/plain": [
       "['In',\n",
       " 'Out',\n",
       " '_',\n",
       " '__',\n",
       " '___',\n",
       " '__builtin__',\n",
       " '__builtins__',\n",
       " '__doc__',\n",
       " '__loader__',\n",
       " '__name__',\n",
       " '__package__',\n",
       " '__spec__',\n",
       " '_dh',\n",
       " '_i',\n",
       " '_i1',\n",
       " '_ih',\n",
       " '_ii',\n",
       " '_iii',\n",
       " '_oh',\n",
       " 'exit',\n",
       " 'get_ipython',\n",
       " 'quit']"
      ]
     },
     "execution_count": 1,
     "metadata": {},
     "output_type": "execute_result"
    }
   ],
   "source": [
    "dir()"
   ]
  },
  {
   "cell_type": "code",
   "execution_count": 8,
   "metadata": {},
   "outputs": [
    {
     "name": "stdout",
     "output_type": "stream",
     "text": [
      "The Genome Analysis Toolkit (GATK) v4.1.6.0\n",
      "HTSJDK Version: 2.21.2\n",
      "Picard Version: 2.21.9\n",
      "Package             Version  \n",
      "------------------- ---------\n",
      "absl-py             0.9.0    \n",
      "astor               0.8.0    \n",
      "attrs               19.3.0   \n",
      "backcall            0.1.0    \n",
      "biopython           1.70     \n",
      "bleach              1.5.0    \n",
      "certifi             2016.2.28\n",
      "cycler              0.10.0   \n",
      "decorator           4.4.2    \n",
      "defusedxml          0.6.0    \n",
      "entrypoints         0.3      \n",
      "enum34              1.1.6    \n",
      "gast                0.3.3    \n",
      "gatkpythonpackages  0.1      \n",
      "grpcio              1.12.1   \n",
      "h5py                2.7.1    \n",
      "html5lib            0.9999999\n",
      "importlib-metadata  1.6.0    \n",
      "ipykernel           5.2.1    \n",
      "ipython             7.13.0   \n",
      "ipython-genutils    0.2.0    \n",
      "jedi                0.17.0   \n",
      "Jinja2              2.11.2   \n",
      "joblib              0.11     \n",
      "jsonschema          3.2.0    \n",
      "jupyter-client      6.1.3    \n",
      "jupyter-core        4.6.3    \n",
      "Keras               2.2.0    \n",
      "Keras-Applications  1.0.2    \n",
      "Keras-Preprocessing 1.0.1    \n",
      "Markdown            2.6.9    \n",
      "MarkupSafe          1.1.1    \n",
      "matplotlib          2.1.0    \n",
      "mistune             0.8.4    \n",
      "nbconvert           5.6.1    \n",
      "nbformat            5.0.6    \n",
      "notebook            6.0.3    \n",
      "numpy               1.13.3   \n",
      "pandas              0.21.0   \n",
      "pandocfilters       1.4.2    \n",
      "parso               0.7.0    \n",
      "patsy               0.4.1    \n",
      "pexpect             4.8.0    \n",
      "pickleshare         0.7.5    \n",
      "pip                 20.0.2   \n",
      "prometheus-client   0.7.1    \n",
      "prompt-toolkit      3.0.5    \n",
      "protobuf            3.6.1    \n",
      "ptyprocess          0.6.0    \n",
      "Pygments            2.6.1    \n",
      "pymc3               3.1      \n",
      "pyparsing           2.2.0    \n",
      "pyrsistent          0.16.0   \n",
      "pysam               0.13     \n",
      "python-dateutil     2.6.1    \n",
      "pytz                2017.3   \n",
      "PyVCF               0.6.8    \n",
      "PyYAML              3.12     \n",
      "pyzmq               19.0.0   \n",
      "scikit-learn        0.19.1   \n",
      "scipy               1.0.0    \n",
      "Send2Trash          1.5.0    \n",
      "setuptools          36.4.0   \n",
      "six                 1.11.0   \n",
      "tensorboard         1.12.2   \n",
      "tensorflow          1.12.0   \n",
      "termcolor           1.1.0    \n",
      "terminado           0.8.3    \n",
      "testpath            0.4.4    \n",
      "Theano              1.0.4    \n",
      "tornado             6.0.4    \n",
      "tqdm                4.19.4   \n",
      "traitlets           4.3.3    \n",
      "wcwidth             0.1.9    \n",
      "Werkzeug            0.12.2   \n",
      "wheel               0.29.0   \n",
      "zipp                3.1.0    \n",
      "\n"
     ]
    }
   ],
   "source": [
    "import subprocess\n",
    "process = subprocess.Popen(['provenance'],\n",
    "                           stdout=subprocess.PIPE, \n",
    "                           stderr=subprocess.PIPE,\n",
    "                           universal_newlines=True)\n",
    "stdout, stderr = process.communicate()\n",
    "print(stdout)"
   ]
  },
  {
   "cell_type": "code",
   "execution_count": null,
   "metadata": {},
   "outputs": [],
   "source": []
  }
 ],
 "metadata": {
  "kernelspec": {
   "display_name": "Python 3",
   "language": "python",
   "name": "python3"
  },
  "language_info": {
   "codemirror_mode": {
    "name": "ipython",
    "version": 3
   },
   "file_extension": ".py",
   "mimetype": "text/x-python",
   "name": "python",
   "nbconvert_exporter": "python",
   "pygments_lexer": "ipython3",
   "version": "3.6.2"
  }
 },
 "nbformat": 4,
 "nbformat_minor": 4
}
